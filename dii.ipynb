{
 "cells": [
  {
   "cell_type": "markdown",
   "metadata": {
    "id": "7wW-aQs5WbZS"
   },
   "source": [
    "# Imports"
   ]
  },
  {
   "cell_type": "code",
   "execution_count": 1,
   "metadata": {
    "id": "evkr5XxJHf4j"
   },
   "outputs": [],
   "source": [
    "import numpy as np\n",
    "import skimage\n",
    "import matplotlib.cm as cm\n",
    "from tqdm.notebook import tqdm\n",
    "from numba import jit\n",
    "import math\n",
    "from PIL import Image"
   ]
  },
  {
   "cell_type": "markdown",
   "metadata": {},
   "source": [
    "Für `.png` Dateien den oberen Block auführen. Bilder vom `.tiff`-Typ müssen mit dem Block darunter eingelesen werden."
   ]
  },
  {
   "cell_type": "code",
   "execution_count": null,
   "metadata": {
    "cellView": "code",
    "id": "__NHcupiL3qR"
   },
   "outputs": [],
   "source": [
    "# PNG image\n",
    "orig_image = skimage.io.imread(\"images_test/lenna_2048.png\",\n",
    "                               as_gray=True)\n",
    "skimage.io.imshow(orig_image, cmap=cm.gray)"
   ]
  },
  {
   "cell_type": "code",
   "execution_count": null,
   "metadata": {},
   "outputs": [],
   "source": [
    "# TIFF image\n",
    "orig_image = Image.open(\"images_test/CodA_381_KTK_colorUV.tif\")\n",
    "orig_image = np.array(orig_image)\n",
    "\n",
    "skimage.io.imshow(orig_image)"
   ]
  },
  {
   "cell_type": "markdown",
   "metadata": {
    "id": "oKr6EsoALp2H"
   },
   "source": [
    "# VII"
   ]
  },
  {
   "cell_type": "code",
   "execution_count": null,
   "metadata": {
    "id": "n3yEi1fsL9E4"
   },
   "outputs": [],
   "source": [
    "r_vii = 35\n",
    "\n",
    "a = orig_image.shape[0]+(r_vii*2)\n",
    "b = orig_image.shape[1]+(r_vii*2)\n",
    "\n",
    "image = np.full((a, b), 255)\n",
    "\n",
    "c = int(image.shape[0]-r_vii)\n",
    "d = int(image.shape[1]-r_vii)\n",
    "\n",
    "image[r_vii:c, r_vii:d] = orig_image\n",
    "\n",
    "@jit(nopython=True)\n",
    "def volume_integral_invariant(img, radius, x, y):\n",
    "    volume = 0\n",
    "\n",
    "    def calc_h(i, j):\n",
    "        if radius ** 2 - x ** 2 - y ** 2 >= 0:\n",
    "            return img[abs(y + j), abs(x + i)] - img[y, x] + np.sqrt(radius ** 2 - x ** 2 - y ** 2)\n",
    "        else:\n",
    "            return img[abs(y + j), abs(x + i)] - img[y, x]\n",
    "\n",
    "    def calc_sphere(i, j):\n",
    "        if radius ** 2 - i ** 2 - j ** 2 >= 0:\n",
    "            return 2 * np.sqrt(radius ** 2 - i ** 2 - j ** 2)\n",
    "        else:\n",
    "            return 0\n",
    "\n",
    "    for i in range(-radius, radius + 1):\n",
    "        for j in range(-radius, radius + 1):\n",
    "\n",
    "            h = calc_h(i, j)\n",
    "            sphere = calc_sphere(i, j)\n",
    "\n",
    "            tmp = min(h, sphere)\n",
    "            volume += max(tmp, 0)\n",
    "    # normalizing\n",
    "    if volume != 0:\n",
    "        volume = (3 * volume) / (2 * np.pi * radius ** 3) - 1\n",
    "    return volume\n",
    "\n",
    "\n",
    "def vii_image(input_img, radius):\n",
    "    empty = np.ones((input_img.shape[0]-(2*radius), input_img.shape[1]-(2*radius)))\n",
    "    print(\"Calculating volume\")\n",
    "    for y in tqdm(range(0, empty.shape[0])):\n",
    "        for x in range(0, empty.shape[1]):\n",
    "            empty[y, x] = volume_integral_invariant(input_img, radius, x+radius, y+radius)\n",
    "    return empty\n",
    "\n",
    "\n",
    "volume_image = vii_image(image, r_vii)\n",
    "skimage.io.imshow(volume_image, cmap=cm.gray)"
   ]
  },
  {
   "cell_type": "code",
   "execution_count": null,
   "metadata": {
    "id": "95tzJ9FbY3Ob"
   },
   "outputs": [],
   "source": [
    "skimage.io.imsave(f\"volume_lenna_r_vii{r_vii}.png\", volume_image)"
   ]
  },
  {
   "cell_type": "markdown",
   "metadata": {
    "id": "us7Q_-uHLk9X"
   },
   "source": [
    "# SII"
   ]
  },
  {
   "cell_type": "code",
   "execution_count": null,
   "metadata": {
    "id": "fBXkleGXHxrY"
   },
   "outputs": [],
   "source": [
    "r_sii = math.floor(r_vii/2) #paper seite 92\n",
    "epsilon = 0.1"
   ]
  },
  {
   "cell_type": "code",
   "execution_count": null,
   "metadata": {
    "id": "1uOkp17WZYH6"
   },
   "outputs": [],
   "source": [
    "@jit(nopython=True)\n",
    "def is_zero_crossing(volume, x, y):\n",
    "    for i in range(-1, 2):\n",
    "        for j in range(-1, 2):\n",
    "            if (i != 0 or j != 0):\n",
    "              if (volume.shape[0] > y + i >= 0 and\n",
    "                      0 <= x + j < volume.shape[1]):\n",
    "                  if (volume[y + i, x + j] * volume[y, x] < 0 or\n",
    "                          (volume[y + i, x + j] == 0 and volume[y, x] < 0)):\n",
    "                      return 0\n",
    "    return 1\n",
    "\n",
    "\n",
    "def zero_crossing(volume):\n",
    "    empty = np.zeros((volume.shape[0], volume.shape[1]))\n",
    "    print(\"Check for zero crossings\")\n",
    "    for y in tqdm(range(0, empty.shape[0])):\n",
    "        for x in range(0, empty.shape[1]):\n",
    "            empty[y, x] = is_zero_crossing(volume, x, y)\n",
    "    return empty\n",
    "\n",
    "\n",
    "zero_crossings = zero_crossing(volume_image)\n",
    "skimage.io.imshow(zero_crossings)"
   ]
  },
  {
   "cell_type": "code",
   "execution_count": null,
   "metadata": {
    "id": "ORx6N3YsaJuc"
   },
   "outputs": [],
   "source": [
    "skimage.io.imsave(f\"zerocross_grid_r_vii{r_vii}_r_sii{r_sii}.png\", zero_crossings)"
   ]
  },
  {
   "cell_type": "code",
   "execution_count": null,
   "metadata": {
    "id": "IQkiCh2uIHGN"
   },
   "outputs": [],
   "source": [
    "@jit(nopython=True)\n",
    "def patch(input_img, scharr_img, radius, x, y):\n",
    "    p = 0\n",
    "    for i in range(-radius, radius + 1):\n",
    "        for j in range(-radius, radius + 1):\n",
    "            if 0 <= y + i < input_img.shape[0] and 0 <= x + j < input_img.shape[1]:\n",
    "                if (input_img[y + i, x + j] - input_img[y, x]) ** 2 + i ** 2 + j ** 2 <= radius ** 2:\n",
    "                    p += scharr_img[y + i, x + j]\n",
    "    return p\n",
    "\n",
    "\n",
    "@jit(nopython=True)\n",
    "def min_patch(patch, radius, x, y):\n",
    "    if x - radius < 0:\n",
    "        a = 0\n",
    "        b = x + radius + 1\n",
    "    elif x + radius >= patch.shape[1]:\n",
    "        a = x - radius\n",
    "        b = patch.shape[1]\n",
    "    else:\n",
    "        a = x - radius\n",
    "        b = x + radius + 1\n",
    "    if y - radius < 0:\n",
    "        c = 0\n",
    "        d = y + radius + 1\n",
    "    elif y + radius >= patch.shape[0]:\n",
    "        c = y - radius\n",
    "        d = patch.shape[0]\n",
    "    else:\n",
    "        c = y - radius\n",
    "        d = y + radius + 1\n",
    "    #print(f\"x = {x}, y = {y}\")\n",
    "    #print(patch[c:d, a:b].shape)\n",
    "    return min(map(min, patch[c:d, a:b]))\n",
    "\n",
    "\n",
    "def t_mask(input_image, radius):\n",
    "    scharr_img = skimage.filters.scharr(input_image)\n",
    "    empty = np.zeros((input_image.shape[0]-2*r_vii, input_image.shape[1]-2*r_vii))\n",
    "    #print(f\"empty = {empty.shape}\")\n",
    "    t = np.zeros(input_image.shape)\n",
    "    print(\"Create patch\")\n",
    "    for y in tqdm((range(0, empty.shape[0]))):\n",
    "        for x in range(0, empty.shape[1]):\n",
    "            empty[y, x] = patch(input_image, scharr_img, radius, x+r_vii, y+r_vii)\n",
    "    #skimage.io.imshow(empty)\n",
    "    print(\"Calculate t-mask\")\n",
    "    for y in tqdm(range(0, empty.shape[0])):\n",
    "        for x in range(0, empty.shape[1]):\n",
    "            tmp = min_patch(empty, radius, x, y) * (2 + epsilon)\n",
    "            if empty[y, x] > tmp:\n",
    "                t[y, x] = 1\n",
    "    return t\n",
    "\n",
    "t = t_mask(image, r_sii)"
   ]
  },
  {
   "cell_type": "code",
   "execution_count": null,
   "metadata": {
    "id": "FcGzkaCuIRQ9"
   },
   "outputs": [],
   "source": [
    "def is_edge(zero_crossings, t, x, y):\n",
    "    return zero_crossings[y, x] * t[y, x]\n",
    "\n",
    "\n",
    "def edge_image(zero_crossings, t):\n",
    "    empty = np.zeros(zero_crossings.shape)\n",
    "    print(\"Calculate edge image\")\n",
    "    #print(zero_crossings.shape)\n",
    "    #print(t.shape)\n",
    "    for y in tqdm(range(0, zero_crossings.shape[0])):\n",
    "        for x in range(0, zero_crossings.shape[1]):\n",
    "            #print(f\"x = {x}, y = {y}\")\n",
    "            empty[y, x] = is_edge(zero_crossings, t, x, y)\n",
    "    return empty\n",
    "\n",
    "\n",
    "edge_img = edge_image(zero_crossings, t)\n",
    "skimage.io.imshow(edge_img)"
   ]
  },
  {
   "cell_type": "code",
   "execution_count": null,
   "metadata": {
    "id": "TcqTrPWncD5B"
   },
   "outputs": [],
   "source": [
    "skimage.io.imsave(f\"edge_grid_r_vii{r_vii}_r_sii{r_sii}.png\", edge_img)"
   ]
  },
  {
   "cell_type": "markdown",
   "metadata": {
    "id": "Rr4vJYQzgFBh"
   },
   "source": [
    "# Laufzeiten"
   ]
  },
  {
   "cell_type": "code",
   "execution_count": null,
   "metadata": {
    "id": "sD37SAIqgOia"
   },
   "outputs": [],
   "source": [
    "import pandas as pd\n",
    "from matplotlib import pyplot as plt\n",
    "import numpy as np\n",
    "\n",
    "runtimes_volume = pd.DataFrame(\n",
    "    {\"r3\" : [12,7,8,8,6,6,8,7,6,5],\n",
    "     \"r11\": [16,16,16,18,18,17,16,16,17,18],\n",
    "     \"r35\": [125,123,122,121,122,124,120,123,124,122],\n",
    "     \"r51\": [236,235,233,229,227,221,241,243,238,234]}\n",
    ")\n",
    "\n",
    "means = runtimes_volume.mean()\n",
    "\n",
    "for_scatter = pd.melt(runtimes_volume, var_name=\"Radius\", value_name=\"Laufzeit\")\n",
    "for_scatter.replace({\"r3\": 3, \"r11\": 11, \"r35\": 35, \"r51\": 51}, inplace=True)\n",
    "\n",
    "plt.figure()\n",
    "plt.plot([3,11,35,51],list(means))\n",
    "plt.violinplot(runtimes_volume,\n",
    "               positions=[3,11,35,51],\n",
    "               widths=1,\n",
    "               showmeans=True)\n",
    "plt.xlabel(\"Radius\")\n",
    "plt.ylabel(\"Laufzeit in Sekunden\")\n",
    "\n",
    "plt.show()"
   ]
  }
 ],
 "metadata": {
  "colab": {
   "provenance": []
  },
  "kernelspec": {
   "display_name": "Python 3 (ipykernel)",
   "language": "python",
   "name": "python3"
  },
  "language_info": {
   "codemirror_mode": {
    "name": "ipython",
    "version": 3
   },
   "file_extension": ".py",
   "mimetype": "text/x-python",
   "name": "python",
   "nbconvert_exporter": "python",
   "pygments_lexer": "ipython3",
   "version": "3.10.11"
  }
 },
 "nbformat": 4,
 "nbformat_minor": 1
}
